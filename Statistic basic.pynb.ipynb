{
 "cells": [
  {
   "cell_type": "markdown",
   "metadata": {},
   "source": [
    "# ***Statistic Basic Assignment 2 October 2024 by Piyush Gaur***"
   ]
  },
  {
   "cell_type": "markdown",
   "metadata": {},
   "source": [
    "\n",
    "#### 1. Explain the different types of data (qualitative and quantitative) and provide examples of each. Discuss nominal, ordinal, interval, and ratio scales."
   ]
  },
  {
   "cell_type": "markdown",
   "metadata": {},
   "source": [
    "#### **Types of Data: Qualitative and Quantitative**\n",
    "\n",
    "- **Qualitative Data**: Also known as categorical data, this type of data describes qualities or characteristics. It's non-numeric and often involves labels or categories.\n",
    "  - **Examples**: Colors (red, blue), Gender (male, female), Nationality (Indian, American)\n",
    "  - **Scales**:\n",
    "    - **Nominal Scale**: Data is categorized without any order. Example: Eye color (blue, brown, green).\n",
    "    - **Ordinal Scale**: Data is categorized but with a meaningful order. Example: Customer satisfaction (satisfied, neutral, dissatisfied).\n",
    "  \n",
    "- **Quantitative Data**: This data type represents numerical values and can be measured.\n",
    "  - **Examples**: Height (in cm), Weight (in kg), Test scores\n",
    "  - **Scales**:\n",
    "    - **Interval Scale**: Data with meaningful intervals between values but no true zero. Example: Temperature in Celsius.\n",
    "    - **Ratio Scale**: Data with meaningful intervals and a true zero, allowing for comparisons of magnitude. Example: Height, Weight.\n",
    "\n",
    "---\n",
    "\n"
   ]
  },
  {
   "cell_type": "markdown",
   "metadata": {},
   "source": [
    "#### 2. What are the measures of central tendency, and when should you use each? Discuss the mean, median, and mode with examples and situations where each is appropriate.\n"
   ]
  },
  {
   "cell_type": "markdown",
   "metadata": {},
   "source": [
    "#### **Measures of Central Tendency: Mean, Median, Mode**\n",
    "\n",
    "- **Mean**: The average of a dataset. It’s useful when the data is evenly distributed without extreme outliers.\n",
    "  - **Example**: For the numbers 2, 3, 5, 7, 11, the mean is $$\\frac{2+3+5+7+11}{5} = 5.6$$\n",
    "  - **When to use**: When you want an overall average and the data is symmetric.\n",
    "\n",
    "- **Median**: The middle value in an ordered dataset. It’s robust to outliers and skewed data.\n",
    "  - **Example**: In the dataset 1, 3, 7, the median is 3.\n",
    "  - **When to use**: When the data is skewed or has outliers.\n",
    "\n",
    "- **Mode**: The value that appears most frequently in a dataset.\n",
    "  - **Example**: In the dataset 2, 3, 3, 5, 7, the mode is 3.\n",
    "  - **When to use**: When the most common item is important (e.g., in a survey about the most preferred product).\n",
    "\n",
    "---\n",
    "\n"
   ]
  },
  {
   "cell_type": "markdown",
   "metadata": {},
   "source": [
    "#### 3. Explain the concept of dispersion. How do variance and standard deviation measure the spread of data?\n"
   ]
  },
  {
   "cell_type": "markdown",
   "metadata": {},
   "source": [
    "#### **Concept of Dispersion: Variance and Standard Deviation**\n",
    "\n",
    "- **Dispersion** refers to how spread out the data points are in a dataset. It shows the variability within the data.\n",
    "  \n",
    "- **Variance** measures the average of the squared differences from the mean.\n",
    "  - **Formula**: $$\\text{Variance} = \\frac{\\sum (x_i-\\mu)^2}{N}$$, where $$x_i$$ are the data points, and $$\\mu $$ is the mean.\n",
    "\n",
    "- **Standard Deviation** is the square root of the variance, providing a measure of spread in the same units as the original data.\n",
    "  - **Formula**: $$\\text{Standard Deviation} = \\sqrt{\\text{Variance}}$$\n",
    "\n",
    "  Both metrics tell us how far the data points deviate from the mean. A higher standard deviation means the data is more spread out.\n",
    "\n",
    "---\n",
    "\n"
   ]
  },
  {
   "cell_type": "markdown",
   "metadata": {},
   "source": [
    "#### 4. What is a box plot, and what can it tell you about the distribution of data?"
   ]
  },
  {
   "cell_type": "markdown",
   "metadata": {},
   "source": [
    "#### **Box Plot (Box-and-Whisker Plot)**\n",
    "\n",
    "A box plot visualizes the distribution of a dataset based on five summary statistics: minimum, first quartile (Q1), median (Q2), third quartile (Q3), and maximum. It also shows potential outliers.\n",
    "\n",
    "- **What it tells you**:\n",
    "  - Spread and skewness of the data.\n",
    "  - Presence of outliers.\n",
    "  - Comparison of different data distributions.\n",
    "\n",
    "---\n",
    "\n"
   ]
  },
  {
   "cell_type": "markdown",
   "metadata": {},
   "source": [
    "#### 5. Discuss the role of random sampling in making inferences about populations."
   ]
  },
  {
   "cell_type": "markdown",
   "metadata": {},
   "source": [
    "#### **Role of Random Sampling in Inferences**\n",
    "\n",
    "Random sampling ensures that every member of the population has an equal chance of being selected. This allows for unbiased estimates of population parameters and helps generalize findings from the sample to the population.\n",
    "\n",
    "- **Importance**: It reduces sampling bias and increases the reliability of statistical inferences.\n",
    "\n",
    "---\n"
   ]
  },
  {
   "cell_type": "markdown",
   "metadata": {},
   "source": [
    "#### 6. Explain the concept of skewness and its types. How does skewness affect the interpretation of data?\n"
   ]
  },
  {
   "cell_type": "markdown",
   "metadata": {},
   "source": [
    "\n",
    "#### **Skewness and Its Types**\n",
    "\n",
    "- **Skewness** measures the asymmetry of the distribution of values:\n",
    "  - **Positive Skew (Right-skewed)**: Tail is on the right; mean > median.\n",
    "  - **Negative Skew (Left-skewed)**: Tail is on the left; mean < median.\n",
    "\n",
    "  Skewness affects the interpretation of the central tendency and spread, especially for the mean.\n",
    "\n",
    "---\n"
   ]
  },
  {
   "cell_type": "markdown",
   "metadata": {},
   "source": [
    "#### 7. What is the interquartile range (IQR), and how is it used to detect outliers?\n"
   ]
  },
  {
   "cell_type": "markdown",
   "metadata": {},
   "source": [
    "\n",
    "#### **Interquartile Range (IQR) and Outlier Detection**\n",
    "\n",
    "- **IQR** is the difference between the third quartile (Q3) and the first quartile (Q1). It measures the spread of the middle 50% of the data.\n",
    "  - **Formula**: $$\\text{IQR} = Q3 - Q1$$\n",
    "\n",
    "- **Outliers**: Data points outside 1.5 times the IQR above Q3 or below Q1 are considered outliers.\n",
    "\n",
    "---\n",
    "\n"
   ]
  },
  {
   "cell_type": "markdown",
   "metadata": {},
   "source": [
    "#### 8. Discuss the conditions under which the binomial distribution is used.\n"
   ]
  },
  {
   "cell_type": "markdown",
   "metadata": {},
   "source": [
    "#### **Binomial Distribution**\n",
    "\n",
    "The **binomial distribution** is used when:\n",
    "- There are a fixed number of trials.\n",
    "- Each trial has two possible outcomes (success or failure).\n",
    "- The probability of success is constant across trials.\n",
    "- Trials are independent.\n",
    "\n",
    "**Example**: Tossing a coin 10 times and counting the number of heads.\n",
    "\n",
    "---\n"
   ]
  },
  {
   "cell_type": "markdown",
   "metadata": {},
   "source": [
    "#### 9. Explain the properties of the normal distribution and the empirical rule (68-95-99.7 rule).\n"
   ]
  },
  {
   "cell_type": "markdown",
   "metadata": {},
   "source": [
    "#### **Normal Distribution and the Empirical Rule**\n",
    "\n",
    "- **Normal Distribution** is symmetric and bell-shaped, where most data points cluster around the mean.\n",
    "  - **Properties**: Mean = Median = Mode.\n",
    "\n",
    "- **Empirical Rule (68-95-99.7 Rule)**: \n",
    "  - 68% of data falls within 1 standard deviation.\n",
    "  - 95% of data falls within 2 standard deviations.\n",
    "  - 99.7% of data falls within 3 standard deviations.\n",
    "\n",
    "---\n"
   ]
  },
  {
   "cell_type": "markdown",
   "metadata": {},
   "source": [
    "#### 10. Provide a real-life example of a Poisson process and calculate the probability for a specific event.\n"
   ]
  },
  {
   "cell_type": "markdown",
   "metadata": {},
   "source": [
    "\n",
    "\n",
    "#### **Poisson Process Example**\n",
    "\n",
    "A **Poisson process** models the occurrence of rare events over a fixed interval of time or space.\n",
    "\n",
    "**Example**: Suppose on average 5 customers enter a store per hour. The probability of exactly 3 customers entering in the next hour can be calculated using the Poisson formula:\n",
    "\n",
    "$$\n",
    "P(X=k) = \\frac{e^{-\\lambda} \\lambda^k}{k!}\n",
    "$$\n",
    "Where $$\\lambda = 5$$, $$k = 3$$, and $$e$$ is approximately 2.718.\n",
    "\n",
    "\n",
    "---"
   ]
  },
  {
   "cell_type": "markdown",
   "metadata": {},
   "source": [
    "#### 11. Explain what a random variable is and differentiate between discrete and continuous random variables.\n"
   ]
  },
  {
   "cell_type": "markdown",
   "metadata": {},
   "source": [
    "#### **Random Variables: Discrete and Continuous**\n",
    "\n",
    "- **Random Variable**: A variable that takes on different values based on the outcome of a random event.\n",
    "  - **Discrete Random Variables**: Take on countable values (e.g., number of heads in coin tosses).\n",
    "  - **Continuous Random Variables**: Take on any value in a continuous range (e.g., height, weight).\n",
    "\n",
    "---\n"
   ]
  },
  {
   "cell_type": "markdown",
   "metadata": {},
   "source": [
    "#### 12. Provide an example dataset, calculate both covariance and correlation, and interpret the results."
   ]
  },
  {
   "cell_type": "markdown",
   "metadata": {},
   "source": [
    "\n",
    "#### **Covariance and Correlation Example**\n",
    "\n",
    "- **Covariance** measures the directional relationship between two variables. A positive covariance means both variables move in the same direction and negative covariance is both variable move in opposite direction.\n",
    "  - **Formula**: $$\\text{Cov}(X, Y) = \\frac{\\sum (X_i - \\bar{X})(Y_i - \\bar{Y})}{N}$$\n",
    "\n",
    "- **Correlation** standardizes covariance, giving a value between -1 and 1.\n",
    "  - **Formula**: $$\\text{Corr}(X, Y) = \\frac{\\text{Cov}(X, Y)}{\\sigma_X \\sigma_Y}$$\n",
    "\n",
    "A positive correlation (near 1) means a strong positive relationship, and a negative one (near -1) means a strong negative relationship.\n",
    "\n"
   ]
  },
  {
   "cell_type": "code",
   "execution_count": 3,
   "metadata": {},
   "outputs": [
    {
     "data": {
      "text/plain": [
       "(1.5, 0.7745966692414834)"
      ]
     },
     "execution_count": 3,
     "metadata": {},
     "output_type": "execute_result"
    }
   ],
   "source": [
    "import numpy as np\n",
    "# Example dataset\n",
    "X = np.array([1, 2, 3, 4, 5])\n",
    "Y = np.array([2, 4, 5, 4, 5])\n",
    "\n",
    "# Mean of X and Y\n",
    "mean_X = np.mean(X)\n",
    "mean_Y = np.mean(Y)\n",
    "\n",
    "# Covariance calculation\n",
    "cov_XY = np.sum((X - mean_X) * (Y - mean_Y)) / (len(X) - 1)\n",
    "\n",
    "# Correlation calculation\n",
    "std_X = np.std(X, ddof=1)  # standard deviation of X\n",
    "std_Y = np.std(Y, ddof=1)  # standard deviation of Y\n",
    "correlation_XY = cov_XY / (std_X * std_Y)\n",
    "\n",
    "cov_XY, correlation_XY\n"
   ]
  },
  {
   "cell_type": "markdown",
   "metadata": {},
   "source": [
    "#### Results:\n",
    "- **Covariance (X, Y):** 1.5\n",
    "- **Correlation (X, Y):** 0.7746\n",
    "\n",
    "#### Interpretation:\n",
    "- **Covariance:** The positive covariance of 1.5 indicates that as \\( X \\) increases, \\( Y \\) tends to increase as well. However, covariance alone does not give a clear sense of the strength of the relationship.\n",
    "  \n",
    "- **Correlation:** The correlation of 0.7746 suggests a strong positive linear relationship between \\( X \\) and \\( Y \\). The correlation value lies between -1 and 1, where values closer to 1 indicate a strong positive relationship.\n",
    "\n",
    "In this case, a correlation of 0.7746 shows that \\( X \\) and \\( Y \\) are moderately to strongly positively related."
   ]
  }
 ],
 "metadata": {
  "kernelspec": {
   "display_name": "Python 3",
   "language": "python",
   "name": "python3"
  },
  "language_info": {
   "codemirror_mode": {
    "name": "ipython",
    "version": 3
   },
   "file_extension": ".py",
   "mimetype": "text/x-python",
   "name": "python",
   "nbconvert_exporter": "python",
   "pygments_lexer": "ipython3",
   "version": "3.11.5"
  }
 },
 "nbformat": 4,
 "nbformat_minor": 2
}
